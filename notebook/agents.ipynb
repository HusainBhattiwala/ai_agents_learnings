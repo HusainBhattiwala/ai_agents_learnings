{
 "cells": [
  {
   "cell_type": "code",
   "execution_count": 19,
   "metadata": {},
   "outputs": [],
   "source": [
    "import os\n",
    "from dotenv import load_dotenv\n",
    "from langchain_openai import ChatOpenAI\n",
    "\n",
    "load_dotenv()\n",
    "openai_api_key = os.getenv(\"OPENAI_API_KEY\")"
   ]
  },
  {
   "cell_type": "code",
   "execution_count": 20,
   "metadata": {},
   "outputs": [],
   "source": [
    "llm = ChatOpenAI(model=\"gpt-4o-mini\", openai_api_key=openai_api_key)\n",
    "\n",
    "# result = llm.invoke(\"What is the capital of France?\")\n",
    "\n",
    "# print(result.content)"
   ]
  },
  {
   "cell_type": "code",
   "execution_count": 21,
   "metadata": {},
   "outputs": [
    {
     "name": "stdout",
     "output_type": "stream",
     "text": [
      "search_query='Calcium CT score and its relationship with high cholesterol' justification='This query aims to explore the connection between calcium scores obtained from CT scans and cholesterol levels, which is relevant for understanding cardiovascular health risks.'\n",
      "Calcium CT score and its relationship with high cholesterol\n",
      "This query aims to explore the connection between calcium scores obtained from CT scans and cholesterol levels, which is relevant for understanding cardiovascular health risks.\n"
     ]
    }
   ],
   "source": [
    "from pydantic import BaseModel, Field\n",
    "\n",
    "class SearchQuery(BaseModel):\n",
    "    search_query: str = Field(None, description=\"Query that is optimized web search.\")\n",
    "    justification: str = Field(\n",
    "        None, justification=\"Why this query is relevant to the user's request.\"\n",
    "    )\n",
    "    \n",
    "structured_llm = llm.with_structured_output(SearchQuery)\n",
    "\n",
    "output = structured_llm.invoke(\"How does Calcium CT score relate to high cholesterol?\")\n",
    "print(output)\n",
    "print(output.search_query)\n",
    "print(output.justification)    "
   ]
  },
  {
   "cell_type": "code",
   "execution_count": 22,
   "metadata": {},
   "outputs": [
    {
     "data": {
      "text/plain": [
       "[{'name': 'multiply',\n",
       "  'args': {'a': 2, 'b': 117},\n",
       "  'id': 'call_w1O7eJyqSHErOFvCLNZhFrLe',\n",
       "  'type': 'tool_call'},\n",
       " {'name': 'add',\n",
       "  'args': {'a': 3000, 'b': 0},\n",
       "  'id': 'call_OFq3pIb4WLH3dngFCNYyym4k',\n",
       "  'type': 'tool_call'}]"
      ]
     },
     "execution_count": 22,
     "metadata": {},
     "output_type": "execute_result"
    }
   ],
   "source": [
    "def multiply(a: int, b:int):\n",
    "    return a * b\n",
    "\n",
    "def add (a:int, b:int):\n",
    "    return a + b\n",
    "\n",
    "llm_with_tools = llm.bind_tools([multiply, add])\n",
    "\n",
    "response = llm_with_tools.invoke(\"what is 2 times 117 which then add 3000 ?\")\n",
    "response.tool_calls"
   ]
  },
  {
   "cell_type": "code",
   "execution_count": 30,
   "metadata": {},
   "outputs": [],
   "source": [
    "from typing_extensions import TypedDict\n",
    "\n",
    "#Group State\n",
    "class State(TypedDict):\n",
    "    topic: str\n",
    "    joke: str\n",
    "    improved_joke: str\n",
    "    final_joke: str\n",
    "\n",
    "\n",
    "def generate_joke(state: State):\n",
    "    \"\"\"First llm call to generate initial joke\"\"\"\n",
    "    msg = llm.invoke(f\"write a short joke about {state['topic']}\")\n",
    "    return {\"joke\": msg.content}\n",
    "\n",
    "def improve_joke(state: State):\n",
    "    \"\"\"Second llm call to improve the joke\"\"\"\n",
    "    msg = llm.invoke(f\"make this joke funnier by adding wordplay: {state['joke']}\")\n",
    "    return {\"improved_joke\": msg.content}\n",
    "\n",
    "def polish_joke(state: State):\n",
    "    \"\"\"Third llm call to finalize the joke\"\"\"\n",
    "    msg = llm.invoke(f\"Add a suprising twist to this joke: {state['improved_joke']}\")\n",
    "    return {\"final_joke\": msg.content}\n",
    "\n",
    "# Conditional edge function\n",
    "def check_puncline(state: State):\n",
    "    \"\"\"Gate function to check if joke has a punchline\"\"\"\n",
    "    \n",
    "    if \"?\" in state[\"joke\"] or \"!\" in state[\"joke\"]:\n",
    "        return \"Pass\"\n",
    "    return \"Fail\""
   ]
  },
  {
   "cell_type": "code",
   "execution_count": 31,
   "metadata": {},
   "outputs": [
    {
     "data": {
      "image/png": "[encoded data removed]",
      "text/plain": [
       "<IPython.core.display.Image object>"
      ]
     },
     "metadata": {},
     "output_type": "display_data"
    }
   ],
   "source": [
    "from langgraph.graph import StateGraph, START, END\n",
    "from IPython.display import Image, display\n",
    "\n",
    "# build workflow\n",
    "workflow = StateGraph(State)\n",
    "\n",
    "# add nodes\n",
    "workflow.add_node(\"generate_joke\", generate_joke)\n",
    "workflow.add_node(\"improve_joke\", improve_joke)\n",
    "workflow.add_node(\"polish_joke\", polish_joke)\n",
    "\n",
    "# add edges to connect nodes\n",
    "workflow.add_edge(START, \"generate_joke\")\n",
    "workflow.add_conditional_edges(\"generate_joke\", check_puncline, {\"Pass\": \"improve_joke\", \"Fail\": END})\n",
    "workflow.add_edge(\"improve_joke\", \"polish_joke\")\n",
    "workflow.add_edge(\"polish_joke\", END)\n",
    "\n",
    "# compile\n",
    "chain = workflow.compile()\n",
    "\n",
    "display(Image(chain.get_graph().draw_mermaid_png()))"
   ]
  },
  {
   "cell_type": "code",
   "execution_count": 32,
   "metadata": {},
   "outputs": [
    {
     "name": "stdout",
     "output_type": "stream",
     "text": [
      "Initial joke:\n",
      "Why did the cat sit on the computer?\n",
      "\n",
      "Because it wanted to keep an eye on the mouse!\n",
      "\n",
      "--- --- ---\n",
      "\n",
      "Improved joke:\n",
      "Why did the cat sit on the computer?\n",
      "\n",
      "Because it wanted to keep an “eye-con” on the mouse!\n",
      "\n",
      "--- --- ---\n",
      "\n",
      "Final joke:\n",
      "Why did the cat sit on the computer? \n",
      "\n",
      "Because it wanted to keep an “eye-con” on the mouse—until it realized the mouse was actually a virtual reality game and it got trapped in the screen chasing digital mice!\n"
     ]
    }
   ],
   "source": [
    "state = chain.invoke({\"topic\": \"cats\"})\n",
    "print(\"Initial joke:\")\n",
    "print(state[\"joke\"])\n",
    "print(\"\\n--- --- ---\\n\")\n",
    "if \"improved_joke\" in state:\n",
    "    print(\"Improved joke:\")\n",
    "    print(state[\"improved_joke\"])\n",
    "    print(\"\\n--- --- ---\\n\")\n",
    "\n",
    "    print(\"Final joke:\")\n",
    "    print(state[\"final_joke\"])\n",
    "else:\n",
    "    print(\"Joke failed quality gate - no punchline detected!\")"
   ]
  }
 ],
 "metadata": {
  "kernelspec": {
   "display_name": "venv",
   "language": "python",
   "name": "python3"
  },
  "language_info": {
   "codemirror_mode": {
    "name": "ipython",
    "version": 3
   },
   "file_extension": ".py",
   "mimetype": "text/x-python",
   "name": "python",
   "nbconvert_exporter": "python",
   "pygments_lexer": "ipython3",
   "version": "3.10.0"
  }
 },
 "nbformat": 4,
 "nbformat_minor": 2
}
